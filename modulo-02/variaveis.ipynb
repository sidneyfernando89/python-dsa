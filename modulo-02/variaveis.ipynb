{
 "cells": [
  {
   "cell_type": "markdown",
   "metadata": {
    "collapsed": true,
    "pycharm": {
     "name": "#%% md\n"
    }
   },
   "source": [
    "# Variáveis\n",
    "Explicação sobre variáveis e seus tipos dentro da linguagem python"
   ]
  },
  {
   "cell_type": "code",
   "execution_count": 6,
   "outputs": [
    {
     "name": "stdout",
     "output_type": "stream",
     "text": [
      "A variável 1 é do tipo <class 'int'>\n",
      "A variável 1.2 é do tipo <class 'float'>\n",
      "A variável Amor é do tipo <class 'str'>\n",
      "A variável [1, 2, 3] é do tipo <class 'list'>\n",
      "A variável {1: 1, 2: 2, 3: 3} é do tipo <class 'dict'>\n",
      "A variável {1, 2, 3} é do tipo <class 'set'>\n",
      "A variável (1, 2, 3) é do tipo <class 'tuple'>\n"
     ]
    }
   ],
   "source": [
    "variavel = 1\n",
    "print(f'A variável {variavel} é do tipo {type(variavel)}')\n",
    "\n",
    "variavel = 1.2\n",
    "print(f'A variável {variavel} é do tipo {type(variavel)}')\n",
    "\n",
    "variavel = 'Amor'\n",
    "print(f'A variável {variavel} é do tipo {type(variavel)}')\n",
    "\n",
    "variavel = [1, 2, 3]\n",
    "print(f'A variável {variavel} é do tipo {type(variavel)}')\n",
    "\n",
    "variavel = {1:1, 2:2, 3:3}\n",
    "print(f'A variável {variavel} é do tipo {type(variavel)}')\n",
    "\n",
    "variavel = {1, 2, 3}\n",
    "print(f'A variável {variavel} é do tipo {type(variavel)}')\n",
    "\n",
    "variavel = (1, 2, 3)\n",
    "print(f'A variável {variavel} é do tipo {type(variavel)}')"
   ],
   "metadata": {
    "collapsed": false,
    "pycharm": {
     "name": "#%%\n"
    }
   }
  },
  {
   "cell_type": "markdown",
   "source": [
    "## Operações com Números em python"
   ],
   "metadata": {
    "collapsed": false,
    "pycharm": {
     "name": "#%% md\n"
    }
   }
  },
  {
   "cell_type": "code",
   "execution_count": 7,
   "outputs": [
    {
     "name": "stdout",
     "output_type": "stream",
     "text": [
      "Soma: 30\n",
      "Subtração: -10\n",
      "Divisão: 0.5\n",
      "Multiplicação: 200\n",
      "Potenciação: 100000000000000000000\n",
      "Divisão por Resto: 10\n"
     ]
    }
   ],
   "source": [
    "num1, num2 = 10, 20\n",
    "print(f'Soma: {num1 + num2}')\n",
    "print(f'Subtração: {num1 - num2}')\n",
    "print(f'Divisão: {num1 / num2}')\n",
    "print(f'Multiplicação: {num1 * num2}')\n",
    "print(f'Potenciação: {num1 ** num2}')\n",
    "print(f'Divisão por Resto: {num1 % num2}')"
   ],
   "metadata": {
    "collapsed": false,
    "pycharm": {
     "name": "#%%\n"
    }
   }
  },
  {
   "cell_type": "markdown",
   "source": [
    "## Operadores Matemáticos"
   ],
   "metadata": {
    "collapsed": false,
    "pycharm": {
     "name": "#%% md\n"
    }
   }
  },
  {
   "cell_type": "code",
   "execution_count": 9,
   "outputs": [
    {
     "name": "stdout",
     "output_type": "stream",
     "text": [
      "Num1 é menor que Num2: True\n",
      "Num1 é menor ou igual a Num2: True\n",
      "Num1 é maior que Num2: False\n",
      "Num1 é maior ou igual a Num2: False\n",
      "Num1 é diferente de Num2: True\n"
     ]
    }
   ],
   "source": [
    "print(f'Num1 é menor que Num2: {num1 < num2}')\n",
    "print(f'Num1 é menor ou igual a Num2: {num1 <= num2}')\n",
    "print(f'Num1 é maior que Num2: {num1 > num2}')\n",
    "print(f'Num1 é maior ou igual a Num2: {num1 >= num2}')\n",
    "print(f'Num1 é diferente de Num2: {num1 != num2}')"
   ],
   "metadata": {
    "collapsed": false,
    "pycharm": {
     "name": "#%%\n"
    }
   }
  },
  {
   "cell_type": "markdown",
   "source": [
    "## Operadores Lógicos"
   ],
   "metadata": {
    "collapsed": false
   }
  },
  {
   "cell_type": "code",
   "execution_count": 14,
   "outputs": [
    {
     "name": "stdout",
     "output_type": "stream",
     "text": [
      "False\n",
      "True\n",
      "True\n"
     ]
    }
   ],
   "source": [
    "var1 = True\n",
    "var2 = False\n",
    "\n",
    "print(f'{var1 and var2}')\n",
    "print(f'{var1 or var2}')\n",
    "print(f'{var1 != var2}')\n"
   ],
   "metadata": {
    "collapsed": false,
    "pycharm": {
     "name": "#%%\n"
    }
   }
  },
  {
   "cell_type": "markdown",
   "source": [
    "## Strings"
   ],
   "metadata": {
    "collapsed": false
   }
  },
  {
   "cell_type": "code",
   "execution_count": 43,
   "outputs": [
    {
     "name": "stdout",
     "output_type": "stream",
     "text": [
      "Esse é o texto: O meu nome é Sidney\n",
      "O primeiro caractere é : O\n",
      "O ultimo caractere é : y\n",
      "Texto concatenado: O meu nome é Sidney e eu sou pai do Luiz\n",
      "Texto cortado: O m\n",
      "Texto cortado: Omunm  iny\n",
      "Formato de Titulo: O Meu Nome É Sidney\n",
      "Formato Maiusculo: O MEU NOME É SIDNEY\n",
      "Formato Minusculo: o meu nome é sidney\n",
      "Split: ['O', 'meu', 'nome', 'é', 'Sidney']\n",
      "Captalizar: O meu nome é sidney\n",
      "Count: 0\n",
      "Count: 13\n"
     ]
    }
   ],
   "source": [
    "texto1 = \"O meu nome é Sidney\"\n",
    "texto2 = \"e eu sou pai do Luiz\"\n",
    "print(f'Esse é o texto: {texto1}')\n",
    "print(f'O primeiro caractere é : {texto1[0]}')\n",
    "print(f'O ultimo caractere é : {texto1[-1]}')\n",
    "print(f'Texto concatenado: {texto1} {texto2}')\n",
    "print(f'Texto cortado: {texto1[0:3]}')\n",
    "print(f'Texto cortado: {texto1[::2]}')\n",
    "print(f'Formato de Titulo: {texto1.title()}')\n",
    "print(f'Formato Maiusculo: {texto1.upper()}')\n",
    "print(f'Formato Minusculo: {texto1.lower()}')\n",
    "print(f'Split: {texto1.split()}')\n",
    "print(f'Captalizar: {texto1.capitalize()}')\n",
    "print(f'Count: {texto1.count(\"s\")}')\n",
    "print(f'Count: {texto1.find(\"S\")}')"
   ],
   "metadata": {
    "collapsed": false,
    "pycharm": {
     "name": "#%%\n"
    }
   }
  },
  {
   "cell_type": "markdown",
   "source": [
    "## Estrutudas de Dados, Listas, Dicionários, Tuplas, Sets"
   ],
   "metadata": {
    "collapsed": false,
    "pycharm": {
     "name": "#%% md\n"
    }
   }
  },
  {
   "cell_type": "code",
   "execution_count": 27,
   "outputs": [
    {
     "name": "stdout",
     "output_type": "stream",
     "text": [
      "Essa é a lista: ['Laura', 'Luiz', 'Miguel']\n",
      "Essa é a lista: ['Laura', 'Luiz', 'Miguel', 'Cecilia']\n",
      "Contar quantas vezes Laura aparece: 1\n",
      "Essa é a lista: ['Laura', 'Luiz', 'Miguel']\n",
      "True\n",
      "0\n",
      "None\n",
      "None\n",
      "Esse é o dicionário: {1: 'Laura', 2: 'Luiz'}\n",
      "(1,)\n"
     ]
    }
   ],
   "source": [
    "lista = [\"Laura\", \"Luiz\", \"Miguel\"]\n",
    "print(f'Essa é a lista: {lista}')\n",
    "lista.append(\"Cecilia\")\n",
    "print(f'Essa é a lista: {lista}')\n",
    "print(f\"Contar quantas vezes {lista[0]} aparece: {lista.count('Laura')}\")\n",
    "lista.remove(\"Cecilia\")\n",
    "print(f'Essa é a lista: {lista}')\n",
    "print(f\"{'Laura' in lista}\")\n",
    "print(f\"{lista.index('Laura')}\")\n",
    "print(lista.reverse())\n",
    "print(f'{lista.sort()}')\n",
    "\n",
    "dicionario = {1:\"Laura\", 2:'Luiz'}\n",
    "print(f'Esse é o dicionário: {dicionario}')\n",
    "\n",
    "tupla = (1, )\n",
    "print(f\"{tupla}\")"
   ],
   "metadata": {
    "collapsed": false,
    "pycharm": {
     "name": "#%%\n"
    }
   }
  }
 ],
 "metadata": {
  "kernelspec": {
   "name": "pycharm-b48a89ed",
   "language": "python",
   "display_name": "PyCharm (pythonCo3r)"
  },
  "language_info": {
   "codemirror_mode": {
    "name": "ipython",
    "version": 2
   },
   "file_extension": ".py",
   "mimetype": "text/x-python",
   "name": "python",
   "nbconvert_exporter": "python",
   "pygments_lexer": "ipython2",
   "version": "2.7.6"
  }
 },
 "nbformat": 4,
 "nbformat_minor": 0
}